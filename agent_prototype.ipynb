{
  "nbformat": 4,
  "nbformat_minor": 0,
  "metadata": {
    "colab": {
      "provenance": []
    },
    "kernelspec": {
      "name": "python3",
      "display_name": "Python 3"
    },
    "language_info": {
      "name": "python"
    }
  },
  "cells": [
    {
      "cell_type": "code",
      "execution_count": 46,
      "metadata": {
        "id": "3Dc1Mrdfsjqz"
      },
      "outputs": [],
      "source": [
        "### PHASE 1: Data Loading & Pinecone Indexing"
      ]
    },
    {
      "cell_type": "code",
      "source": [
        "from google.colab import drive\n",
        "drive.mount('/content/drive')"
      ],
      "metadata": {
        "colab": {
          "base_uri": "https://localhost:8080/"
        },
        "id": "5jouG-bEtJWJ",
        "outputId": "ddb96af6-d3ad-481a-abdc-7eb00291fa3f"
      },
      "execution_count": 3,
      "outputs": [
        {
          "output_type": "stream",
          "name": "stdout",
          "text": [
            "Mounted at /content/drive\n"
          ]
        }
      ]
    },
    {
      "cell_type": "code",
      "source": [
        "## Step 1: Install Required Libraries"
      ],
      "metadata": {
        "id": "-AT-qsA7tUB9"
      },
      "execution_count": 4,
      "outputs": []
    },
    {
      "cell_type": "code",
      "source": [
        "!pip install -q openai pinecone-client pandas\n"
      ],
      "metadata": {
        "id": "WhaccP_ftsxR"
      },
      "execution_count": 5,
      "outputs": []
    },
    {
      "cell_type": "code",
      "source": [
        "## Step 2: Load the CSV Data"
      ],
      "metadata": {
        "id": "fnxviHbTtu5i"
      },
      "execution_count": 6,
      "outputs": []
    },
    {
      "cell_type": "code",
      "source": [
        "import pandas as pd\n",
        "\n",
        "# Load your CSV file\n",
        "df = pd.read_csv(\"/content/drive/MyDrive/Bridged/sample_data.csv\")\n",
        "df.head()\n"
      ],
      "metadata": {
        "colab": {
          "base_uri": "https://localhost:8080/",
          "height": 327
        },
        "id": "ihZM-94ut1KT",
        "outputId": "dcf5da6b-6b10-4ff3-96cd-07facd6f6c9d"
      },
      "execution_count": 7,
      "outputs": [
        {
          "output_type": "execute_result",
          "data": {
            "text/plain": [
              "                                             pageURL  \\\n",
              "0  https://www.indiatoday.in/sports/cricket/story...   \n",
              "1  https://www.indiatoday.in/sports/cricket/story...   \n",
              "2  https://www.indiatoday.in/sports/cricket/story...   \n",
              "3  https://www.indiatoday.in/sports/cricket/story...   \n",
              "4  https://www.indiatoday.in/sports/cricket/story...   \n",
              "\n",
              "                                               title  \\\n",
              "0  IPL 2025: Ruthless MI top table, knock Rajasth...   \n",
              "1  Shubman Gill likely to play vs SRH despite bac...   \n",
              "2  IPL 2025: Vaibhav Suryavanshi out for 2-ball d...   \n",
              "3  IPL: Rohit Sharma completes 6,000 runs for MI,...   \n",
              "4  IPL 2025: Don't praise Vaibhav Suryavanshi to ...   \n",
              "\n",
              "                 publishedDate    author  \\\n",
              "0  2025-05-01T23:12:07.000000Z  Jane Doe   \n",
              "1  2025-05-01T22:30:24.000000Z  Jane Doe   \n",
              "2  2025-05-01T21:53:11.000000Z  Jane Doe   \n",
              "3  2025-05-01T21:13:15.000000Z  Jane Doe   \n",
              "4  2025-05-01T20:36:03.000000Z  Jane Doe   \n",
              "\n",
              "                                                tags  \n",
              "0  [\"#IPL2025\", \"#MumbaiIndians\", \"#RajasthanRoya...  \n",
              "1   [\"#ShubmanGill\", \"#GujaratTitans\", \"#IPLInjur...  \n",
              "2  [\"#VaibhavSuryavanshi\", \"#IPL2025\", \"#CricketF...  \n",
              "3  [\"#RohitSharma\", \"#MumbaiIndians\", \"#IPLRecords\"]  \n",
              "4  [\"#VaibhavSuryavanshi\", \"#SunilGavaskar\", \"#IP...  "
            ],
            "text/html": [
              "\n",
              "  <div id=\"df-1dd9a1f8-c678-4b69-a724-a58c60a613a7\" class=\"colab-df-container\">\n",
              "    <div>\n",
              "<style scoped>\n",
              "    .dataframe tbody tr th:only-of-type {\n",
              "        vertical-align: middle;\n",
              "    }\n",
              "\n",
              "    .dataframe tbody tr th {\n",
              "        vertical-align: top;\n",
              "    }\n",
              "\n",
              "    .dataframe thead th {\n",
              "        text-align: right;\n",
              "    }\n",
              "</style>\n",
              "<table border=\"1\" class=\"dataframe\">\n",
              "  <thead>\n",
              "    <tr style=\"text-align: right;\">\n",
              "      <th></th>\n",
              "      <th>pageURL</th>\n",
              "      <th>title</th>\n",
              "      <th>publishedDate</th>\n",
              "      <th>author</th>\n",
              "      <th>tags</th>\n",
              "    </tr>\n",
              "  </thead>\n",
              "  <tbody>\n",
              "    <tr>\n",
              "      <th>0</th>\n",
              "      <td>https://www.indiatoday.in/sports/cricket/story...</td>\n",
              "      <td>IPL 2025: Ruthless MI top table, knock Rajasth...</td>\n",
              "      <td>2025-05-01T23:12:07.000000Z</td>\n",
              "      <td>Jane Doe</td>\n",
              "      <td>[\"#IPL2025\", \"#MumbaiIndians\", \"#RajasthanRoya...</td>\n",
              "    </tr>\n",
              "    <tr>\n",
              "      <th>1</th>\n",
              "      <td>https://www.indiatoday.in/sports/cricket/story...</td>\n",
              "      <td>Shubman Gill likely to play vs SRH despite bac...</td>\n",
              "      <td>2025-05-01T22:30:24.000000Z</td>\n",
              "      <td>Jane Doe</td>\n",
              "      <td>[\"#ShubmanGill\", \"#GujaratTitans\", \"#IPLInjur...</td>\n",
              "    </tr>\n",
              "    <tr>\n",
              "      <th>2</th>\n",
              "      <td>https://www.indiatoday.in/sports/cricket/story...</td>\n",
              "      <td>IPL 2025: Vaibhav Suryavanshi out for 2-ball d...</td>\n",
              "      <td>2025-05-01T21:53:11.000000Z</td>\n",
              "      <td>Jane Doe</td>\n",
              "      <td>[\"#VaibhavSuryavanshi\", \"#IPL2025\", \"#CricketF...</td>\n",
              "    </tr>\n",
              "    <tr>\n",
              "      <th>3</th>\n",
              "      <td>https://www.indiatoday.in/sports/cricket/story...</td>\n",
              "      <td>IPL: Rohit Sharma completes 6,000 runs for MI,...</td>\n",
              "      <td>2025-05-01T21:13:15.000000Z</td>\n",
              "      <td>Jane Doe</td>\n",
              "      <td>[\"#RohitSharma\", \"#MumbaiIndians\", \"#IPLRecords\"]</td>\n",
              "    </tr>\n",
              "    <tr>\n",
              "      <th>4</th>\n",
              "      <td>https://www.indiatoday.in/sports/cricket/story...</td>\n",
              "      <td>IPL 2025: Don't praise Vaibhav Suryavanshi to ...</td>\n",
              "      <td>2025-05-01T20:36:03.000000Z</td>\n",
              "      <td>Jane Doe</td>\n",
              "      <td>[\"#VaibhavSuryavanshi\", \"#SunilGavaskar\", \"#IP...</td>\n",
              "    </tr>\n",
              "  </tbody>\n",
              "</table>\n",
              "</div>\n",
              "    <div class=\"colab-df-buttons\">\n",
              "\n",
              "  <div class=\"colab-df-container\">\n",
              "    <button class=\"colab-df-convert\" onclick=\"convertToInteractive('df-1dd9a1f8-c678-4b69-a724-a58c60a613a7')\"\n",
              "            title=\"Convert this dataframe to an interactive table.\"\n",
              "            style=\"display:none;\">\n",
              "\n",
              "  <svg xmlns=\"http://www.w3.org/2000/svg\" height=\"24px\" viewBox=\"0 -960 960 960\">\n",
              "    <path d=\"M120-120v-720h720v720H120Zm60-500h600v-160H180v160Zm220 220h160v-160H400v160Zm0 220h160v-160H400v160ZM180-400h160v-160H180v160Zm440 0h160v-160H620v160ZM180-180h160v-160H180v160Zm440 0h160v-160H620v160Z\"/>\n",
              "  </svg>\n",
              "    </button>\n",
              "\n",
              "  <style>\n",
              "    .colab-df-container {\n",
              "      display:flex;\n",
              "      gap: 12px;\n",
              "    }\n",
              "\n",
              "    .colab-df-convert {\n",
              "      background-color: #E8F0FE;\n",
              "      border: none;\n",
              "      border-radius: 50%;\n",
              "      cursor: pointer;\n",
              "      display: none;\n",
              "      fill: #1967D2;\n",
              "      height: 32px;\n",
              "      padding: 0 0 0 0;\n",
              "      width: 32px;\n",
              "    }\n",
              "\n",
              "    .colab-df-convert:hover {\n",
              "      background-color: #E2EBFA;\n",
              "      box-shadow: 0px 1px 2px rgba(60, 64, 67, 0.3), 0px 1px 3px 1px rgba(60, 64, 67, 0.15);\n",
              "      fill: #174EA6;\n",
              "    }\n",
              "\n",
              "    .colab-df-buttons div {\n",
              "      margin-bottom: 4px;\n",
              "    }\n",
              "\n",
              "    [theme=dark] .colab-df-convert {\n",
              "      background-color: #3B4455;\n",
              "      fill: #D2E3FC;\n",
              "    }\n",
              "\n",
              "    [theme=dark] .colab-df-convert:hover {\n",
              "      background-color: #434B5C;\n",
              "      box-shadow: 0px 1px 3px 1px rgba(0, 0, 0, 0.15);\n",
              "      filter: drop-shadow(0px 1px 2px rgba(0, 0, 0, 0.3));\n",
              "      fill: #FFFFFF;\n",
              "    }\n",
              "  </style>\n",
              "\n",
              "    <script>\n",
              "      const buttonEl =\n",
              "        document.querySelector('#df-1dd9a1f8-c678-4b69-a724-a58c60a613a7 button.colab-df-convert');\n",
              "      buttonEl.style.display =\n",
              "        google.colab.kernel.accessAllowed ? 'block' : 'none';\n",
              "\n",
              "      async function convertToInteractive(key) {\n",
              "        const element = document.querySelector('#df-1dd9a1f8-c678-4b69-a724-a58c60a613a7');\n",
              "        const dataTable =\n",
              "          await google.colab.kernel.invokeFunction('convertToInteractive',\n",
              "                                                    [key], {});\n",
              "        if (!dataTable) return;\n",
              "\n",
              "        const docLinkHtml = 'Like what you see? Visit the ' +\n",
              "          '<a target=\"_blank\" href=https://colab.research.google.com/notebooks/data_table.ipynb>data table notebook</a>'\n",
              "          + ' to learn more about interactive tables.';\n",
              "        element.innerHTML = '';\n",
              "        dataTable['output_type'] = 'display_data';\n",
              "        await google.colab.output.renderOutput(dataTable, element);\n",
              "        const docLink = document.createElement('div');\n",
              "        docLink.innerHTML = docLinkHtml;\n",
              "        element.appendChild(docLink);\n",
              "      }\n",
              "    </script>\n",
              "  </div>\n",
              "\n",
              "\n",
              "    <div id=\"df-1120fc29-bfc0-4b1c-8410-09e0fa5ffc66\">\n",
              "      <button class=\"colab-df-quickchart\" onclick=\"quickchart('df-1120fc29-bfc0-4b1c-8410-09e0fa5ffc66')\"\n",
              "                title=\"Suggest charts\"\n",
              "                style=\"display:none;\">\n",
              "\n",
              "<svg xmlns=\"http://www.w3.org/2000/svg\" height=\"24px\"viewBox=\"0 0 24 24\"\n",
              "     width=\"24px\">\n",
              "    <g>\n",
              "        <path d=\"M19 3H5c-1.1 0-2 .9-2 2v14c0 1.1.9 2 2 2h14c1.1 0 2-.9 2-2V5c0-1.1-.9-2-2-2zM9 17H7v-7h2v7zm4 0h-2V7h2v10zm4 0h-2v-4h2v4z\"/>\n",
              "    </g>\n",
              "</svg>\n",
              "      </button>\n",
              "\n",
              "<style>\n",
              "  .colab-df-quickchart {\n",
              "      --bg-color: #E8F0FE;\n",
              "      --fill-color: #1967D2;\n",
              "      --hover-bg-color: #E2EBFA;\n",
              "      --hover-fill-color: #174EA6;\n",
              "      --disabled-fill-color: #AAA;\n",
              "      --disabled-bg-color: #DDD;\n",
              "  }\n",
              "\n",
              "  [theme=dark] .colab-df-quickchart {\n",
              "      --bg-color: #3B4455;\n",
              "      --fill-color: #D2E3FC;\n",
              "      --hover-bg-color: #434B5C;\n",
              "      --hover-fill-color: #FFFFFF;\n",
              "      --disabled-bg-color: #3B4455;\n",
              "      --disabled-fill-color: #666;\n",
              "  }\n",
              "\n",
              "  .colab-df-quickchart {\n",
              "    background-color: var(--bg-color);\n",
              "    border: none;\n",
              "    border-radius: 50%;\n",
              "    cursor: pointer;\n",
              "    display: none;\n",
              "    fill: var(--fill-color);\n",
              "    height: 32px;\n",
              "    padding: 0;\n",
              "    width: 32px;\n",
              "  }\n",
              "\n",
              "  .colab-df-quickchart:hover {\n",
              "    background-color: var(--hover-bg-color);\n",
              "    box-shadow: 0 1px 2px rgba(60, 64, 67, 0.3), 0 1px 3px 1px rgba(60, 64, 67, 0.15);\n",
              "    fill: var(--button-hover-fill-color);\n",
              "  }\n",
              "\n",
              "  .colab-df-quickchart-complete:disabled,\n",
              "  .colab-df-quickchart-complete:disabled:hover {\n",
              "    background-color: var(--disabled-bg-color);\n",
              "    fill: var(--disabled-fill-color);\n",
              "    box-shadow: none;\n",
              "  }\n",
              "\n",
              "  .colab-df-spinner {\n",
              "    border: 2px solid var(--fill-color);\n",
              "    border-color: transparent;\n",
              "    border-bottom-color: var(--fill-color);\n",
              "    animation:\n",
              "      spin 1s steps(1) infinite;\n",
              "  }\n",
              "\n",
              "  @keyframes spin {\n",
              "    0% {\n",
              "      border-color: transparent;\n",
              "      border-bottom-color: var(--fill-color);\n",
              "      border-left-color: var(--fill-color);\n",
              "    }\n",
              "    20% {\n",
              "      border-color: transparent;\n",
              "      border-left-color: var(--fill-color);\n",
              "      border-top-color: var(--fill-color);\n",
              "    }\n",
              "    30% {\n",
              "      border-color: transparent;\n",
              "      border-left-color: var(--fill-color);\n",
              "      border-top-color: var(--fill-color);\n",
              "      border-right-color: var(--fill-color);\n",
              "    }\n",
              "    40% {\n",
              "      border-color: transparent;\n",
              "      border-right-color: var(--fill-color);\n",
              "      border-top-color: var(--fill-color);\n",
              "    }\n",
              "    60% {\n",
              "      border-color: transparent;\n",
              "      border-right-color: var(--fill-color);\n",
              "    }\n",
              "    80% {\n",
              "      border-color: transparent;\n",
              "      border-right-color: var(--fill-color);\n",
              "      border-bottom-color: var(--fill-color);\n",
              "    }\n",
              "    90% {\n",
              "      border-color: transparent;\n",
              "      border-bottom-color: var(--fill-color);\n",
              "    }\n",
              "  }\n",
              "</style>\n",
              "\n",
              "      <script>\n",
              "        async function quickchart(key) {\n",
              "          const quickchartButtonEl =\n",
              "            document.querySelector('#' + key + ' button');\n",
              "          quickchartButtonEl.disabled = true;  // To prevent multiple clicks.\n",
              "          quickchartButtonEl.classList.add('colab-df-spinner');\n",
              "          try {\n",
              "            const charts = await google.colab.kernel.invokeFunction(\n",
              "                'suggestCharts', [key], {});\n",
              "          } catch (error) {\n",
              "            console.error('Error during call to suggestCharts:', error);\n",
              "          }\n",
              "          quickchartButtonEl.classList.remove('colab-df-spinner');\n",
              "          quickchartButtonEl.classList.add('colab-df-quickchart-complete');\n",
              "        }\n",
              "        (() => {\n",
              "          let quickchartButtonEl =\n",
              "            document.querySelector('#df-1120fc29-bfc0-4b1c-8410-09e0fa5ffc66 button');\n",
              "          quickchartButtonEl.style.display =\n",
              "            google.colab.kernel.accessAllowed ? 'block' : 'none';\n",
              "        })();\n",
              "      </script>\n",
              "    </div>\n",
              "\n",
              "    </div>\n",
              "  </div>\n"
            ],
            "application/vnd.google.colaboratory.intrinsic+json": {
              "type": "dataframe",
              "variable_name": "df",
              "summary": "{\n  \"name\": \"df\",\n  \"rows\": 15,\n  \"fields\": [\n    {\n      \"column\": \"pageURL\",\n      \"properties\": {\n        \"dtype\": \"string\",\n        \"num_unique_values\": 15,\n        \"samples\": [\n          \"https://www.indiatoday.in/sports/football/story/barcelona-champions-league-lamine-yamal-2718130-2025-05-01\",\n          \"https://www.indiatoday.in/sports/cricket/story/najmul-hossain-shanto-bangladesh-vs-zimbabwe-press-conference-chattogram-2718047-2025-05-01\",\n          \"https://www.indiatoday.in/sports/cricket/story/ipl-2025-rr-vs-mi-rohit-sharma-hardik-pandya-ryan-rickelton-jasprit-bumrah-2718272-2025-05-01\"\n        ],\n        \"semantic_type\": \"\",\n        \"description\": \"\"\n      }\n    },\n    {\n      \"column\": \"title\",\n      \"properties\": {\n        \"dtype\": \"string\",\n        \"num_unique_values\": 15,\n        \"samples\": [\n          \"Lamine Yamal deserves to win Ballon d'Or if Barcelona win Champions League: Rio Ferdinand\",\n          \"Najmul Shanto not happy despite Chattogram win: Bangladesh should have won the series\",\n          \"IPL 2025: Ruthless MI top table, knock Rajasthan Royals out of playoffs race\"\n        ],\n        \"semantic_type\": \"\",\n        \"description\": \"\"\n      }\n    },\n    {\n      \"column\": \"publishedDate\",\n      \"properties\": {\n        \"dtype\": \"object\",\n        \"num_unique_values\": 15,\n        \"samples\": [\n          \"2025-05-01T18:19:09.000000Z\",\n          \"2025-05-01T16:09:12.000000Z\",\n          \"2025-05-01T23:12:07.000000Z\"\n        ],\n        \"semantic_type\": \"\",\n        \"description\": \"\"\n      }\n    },\n    {\n      \"column\": \"author\",\n      \"properties\": {\n        \"dtype\": \"category\",\n        \"num_unique_values\": 4,\n        \"samples\": [\n          \"Mary Poppins\",\n          \"Akainu\",\n          \"Jane Doe\"\n        ],\n        \"semantic_type\": \"\",\n        \"description\": \"\"\n      }\n    },\n    {\n      \"column\": \"tags\",\n      \"properties\": {\n        \"dtype\": \"string\",\n        \"num_unique_values\": 15,\n        \"samples\": [\n          \"[\\\"#LamineYamal\\\", \\\"#BallonDor\\\", \\\"#Barcelona\\\"]\",\n          \" [\\\"#NajmulShanto\\\", \\\"#BangladeshCricket\\\", \\\"#Chattogram\\\"]\",\n          \"[\\\"#IPL2025\\\", \\\"#MumbaiIndians\\\", \\\"#RajasthanRoyals\\\"]\"\n        ],\n        \"semantic_type\": \"\",\n        \"description\": \"\"\n      }\n    }\n  ]\n}"
            }
          },
          "metadata": {},
          "execution_count": 7
        }
      ]
    },
    {
      "cell_type": "code",
      "source": [
        "## Step 3: Inspect Required Columns"
      ],
      "metadata": {
        "id": "9_fjanh6uKmT"
      },
      "execution_count": 8,
      "outputs": []
    },
    {
      "cell_type": "code",
      "source": [
        "df.columns"
      ],
      "metadata": {
        "colab": {
          "base_uri": "https://localhost:8080/"
        },
        "id": "rymRI_GcuRA6",
        "outputId": "dbb01c37-491f-460b-ca83-690d43120535"
      },
      "execution_count": 9,
      "outputs": [
        {
          "output_type": "execute_result",
          "data": {
            "text/plain": [
              "Index(['pageURL', 'title', 'publishedDate', 'author', 'tags'], dtype='object')"
            ]
          },
          "metadata": {},
          "execution_count": 9
        }
      ]
    },
    {
      "cell_type": "code",
      "source": [
        "# Rename column to match the expected format\n",
        "df.rename(columns={'publishedDate': 'published_date'}, inplace=True)\n",
        "\n",
        "# Clean tags into list format\n",
        "df['tags'] = df['tags'].apply(lambda x: [tag.strip() for tag in str(x).split(',')])\n"
      ],
      "metadata": {
        "id": "EtDjAG0TuYkH"
      },
      "execution_count": 10,
      "outputs": []
    },
    {
      "cell_type": "code",
      "source": [
        "##  Step 4: Initialize Pinecone"
      ],
      "metadata": {
        "id": "U1k02Butwbka"
      },
      "execution_count": 31,
      "outputs": []
    },
    {
      "cell_type": "code",
      "source": [
        "# uninstall the old pinecone-client\n",
        "!pip uninstall -y pinecone-client\n",
        "\n",
        "# install the new official package\n",
        "!pip install -U pinecone\n"
      ],
      "metadata": {
        "colab": {
          "base_uri": "https://localhost:8080/"
        },
        "id": "8kzn27Q31Dci",
        "outputId": "ade41968-0950-484d-e629-5c3805249542"
      },
      "execution_count": 15,
      "outputs": [
        {
          "output_type": "stream",
          "name": "stdout",
          "text": [
            "Found existing installation: pinecone-client 6.0.0\n",
            "Uninstalling pinecone-client-6.0.0:\n",
            "  Successfully uninstalled pinecone-client-6.0.0\n",
            "Collecting pinecone\n",
            "  Downloading pinecone-7.0.2-py3-none-any.whl.metadata (9.5 kB)\n",
            "Requirement already satisfied: certifi>=2019.11.17 in /usr/local/lib/python3.11/dist-packages (from pinecone) (2025.4.26)\n",
            "Collecting pinecone-plugin-assistant<2.0.0,>=1.6.0 (from pinecone)\n",
            "  Downloading pinecone_plugin_assistant-1.6.1-py3-none-any.whl.metadata (27 kB)\n",
            "Requirement already satisfied: pinecone-plugin-interface<0.0.8,>=0.0.7 in /usr/local/lib/python3.11/dist-packages (from pinecone) (0.0.7)\n",
            "Requirement already satisfied: python-dateutil>=2.5.3 in /usr/local/lib/python3.11/dist-packages (from pinecone) (2.9.0.post0)\n",
            "Requirement already satisfied: typing-extensions>=3.7.4 in /usr/local/lib/python3.11/dist-packages (from pinecone) (4.13.2)\n",
            "Requirement already satisfied: urllib3>=1.26.0 in /usr/local/lib/python3.11/dist-packages (from pinecone) (2.4.0)\n",
            "Requirement already satisfied: packaging<25.0,>=24.2 in /usr/local/lib/python3.11/dist-packages (from pinecone-plugin-assistant<2.0.0,>=1.6.0->pinecone) (24.2)\n",
            "Requirement already satisfied: requests<3.0.0,>=2.32.3 in /usr/local/lib/python3.11/dist-packages (from pinecone-plugin-assistant<2.0.0,>=1.6.0->pinecone) (2.32.3)\n",
            "Requirement already satisfied: six>=1.5 in /usr/local/lib/python3.11/dist-packages (from python-dateutil>=2.5.3->pinecone) (1.17.0)\n",
            "Requirement already satisfied: charset-normalizer<4,>=2 in /usr/local/lib/python3.11/dist-packages (from requests<3.0.0,>=2.32.3->pinecone-plugin-assistant<2.0.0,>=1.6.0->pinecone) (3.4.2)\n",
            "Requirement already satisfied: idna<4,>=2.5 in /usr/local/lib/python3.11/dist-packages (from requests<3.0.0,>=2.32.3->pinecone-plugin-assistant<2.0.0,>=1.6.0->pinecone) (3.10)\n",
            "Downloading pinecone-7.0.2-py3-none-any.whl (516 kB)\n",
            "\u001b[2K   \u001b[90m━━━━━━━━━━━━━━━━━━━━━━━━━━━━━━━━━━━━━━━━\u001b[0m \u001b[32m516.3/516.3 kB\u001b[0m \u001b[31m10.4 MB/s\u001b[0m eta \u001b[36m0:00:00\u001b[0m\n",
            "\u001b[?25hDownloading pinecone_plugin_assistant-1.6.1-py3-none-any.whl (239 kB)\n",
            "\u001b[2K   \u001b[90m━━━━━━━━━━━━━━━━━━━━━━━━━━━━━━━━━━━━━━━━\u001b[0m \u001b[32m239.1/239.1 kB\u001b[0m \u001b[31m17.5 MB/s\u001b[0m eta \u001b[36m0:00:00\u001b[0m\n",
            "\u001b[?25hInstalling collected packages: pinecone-plugin-assistant, pinecone\n",
            "Successfully installed pinecone-7.0.2 pinecone-plugin-assistant-1.6.1\n"
          ]
        }
      ]
    },
    {
      "cell_type": "code",
      "source": [
        "import os\n",
        "from pinecone import Pinecone, ServerlessSpec\n",
        "\n",
        "# 1. Initialize Pinecone client\n",
        "pc = Pinecone(api_key=\"PINECONE_API_KEY\")\n",
        "\n",
        "# 2. Create index (only if it doesn't exist)\n",
        "index_name = \"bridged-assignment\"\n",
        "\n",
        "if index_name not in pc.list_indexes().names():\n",
        "    pc.create_index(\n",
        "        name=index_name,\n",
        "        dimension=1536,\n",
        "        metric=\"cosine\",\n",
        "        spec=ServerlessSpec(\n",
        "            cloud=\"aws\",\n",
        "            region=\"us-east-1\"\n",
        "        )\n",
        "    )\n",
        "\n",
        "# 3. Connect to index\n",
        "index = pc.Index(index_name)\n"
      ],
      "metadata": {
        "id": "DjZH-z470z9M"
      },
      "execution_count": 17,
      "outputs": []
    },
    {
      "cell_type": "code",
      "source": [
        "## Step 5: Generate Embeddings + Upsert into Pinecone"
      ],
      "metadata": {
        "id": "C0OlLRLT1qDo"
      },
      "execution_count": 32,
      "outputs": []
    },
    {
      "cell_type": "code",
      "source": [
        "import openai\n",
        "\n",
        "openai.api_key = \"OPENAI_API_KEY\"\n"
      ],
      "metadata": {
        "id": "uo4KMWYL2tIc"
      },
      "execution_count": 19,
      "outputs": []
    },
    {
      "cell_type": "code",
      "source": [
        "## Define Embedding Function"
      ],
      "metadata": {
        "id": "aiTtz3TP2z2l"
      },
      "execution_count": 20,
      "outputs": []
    },
    {
      "cell_type": "code",
      "source": [
        "# Generate embedding for a given text using OpenAI\n",
        "def get_embedding(text, model=\"text-embedding-ada-002\"):\n",
        "    response = openai.embeddings.create(\n",
        "        input=[text],\n",
        "        model=model\n",
        "    )\n",
        "    return response.data[0].embedding\n"
      ],
      "metadata": {
        "id": "XoT3FTGq23Kk"
      },
      "execution_count": 21,
      "outputs": []
    },
    {
      "cell_type": "code",
      "source": [
        "## Clean Data and Prepare Metadata"
      ],
      "metadata": {
        "id": "Gj_XZ03Q25MD"
      },
      "execution_count": 22,
      "outputs": []
    },
    {
      "cell_type": "code",
      "source": [
        "import pandas as pd\n",
        "\n",
        "# Use the existing DataFrame (already renamed column earlier)\n",
        "df['tags'] = df['tags'].apply(lambda x: [tag.strip() for tag in str(x).split(',')])\n",
        "df['published_date'] = pd.to_datetime(df['published_date'], errors='coerce')\n",
        "\n",
        "# Check formatting\n",
        "df[['title', 'author', 'published_date', 'tags']].head()\n"
      ],
      "metadata": {
        "colab": {
          "base_uri": "https://localhost:8080/",
          "height": 206
        },
        "id": "Rb-CbKs427wl",
        "outputId": "1ec54fbc-2f38-4095-b653-3c4114459991"
      },
      "execution_count": 23,
      "outputs": [
        {
          "output_type": "execute_result",
          "data": {
            "text/plain": [
              "                                               title    author  \\\n",
              "0  IPL 2025: Ruthless MI top table, knock Rajasth...  Jane Doe   \n",
              "1  Shubman Gill likely to play vs SRH despite bac...  Jane Doe   \n",
              "2  IPL 2025: Vaibhav Suryavanshi out for 2-ball d...  Jane Doe   \n",
              "3  IPL: Rohit Sharma completes 6,000 runs for MI,...  Jane Doe   \n",
              "4  IPL 2025: Don't praise Vaibhav Suryavanshi to ...  Jane Doe   \n",
              "\n",
              "             published_date                                               tags  \n",
              "0 2025-05-01 23:12:07+00:00  [['[\"#IPL2025\"', '\"#MumbaiIndians\"', '\"#Rajast...  \n",
              "1 2025-05-01 22:30:24+00:00  [['[\"#ShubmanGill\"', '\"#GujaratTitans\"', '\"#IP...  \n",
              "2 2025-05-01 21:53:11+00:00  [['[\"#VaibhavSuryavanshi\"', '\"#IPL2025\"', '\"#C...  \n",
              "3 2025-05-01 21:13:15+00:00  [['[\"#RohitSharma\"', '\"#MumbaiIndians\"', '\"#IP...  \n",
              "4 2025-05-01 20:36:03+00:00  [['[\"#VaibhavSuryavanshi\"', '\"#SunilGavaskar\"'...  "
            ],
            "text/html": [
              "\n",
              "  <div id=\"df-344feb7b-dc7b-417d-b4c5-d762ffad3bfb\" class=\"colab-df-container\">\n",
              "    <div>\n",
              "<style scoped>\n",
              "    .dataframe tbody tr th:only-of-type {\n",
              "        vertical-align: middle;\n",
              "    }\n",
              "\n",
              "    .dataframe tbody tr th {\n",
              "        vertical-align: top;\n",
              "    }\n",
              "\n",
              "    .dataframe thead th {\n",
              "        text-align: right;\n",
              "    }\n",
              "</style>\n",
              "<table border=\"1\" class=\"dataframe\">\n",
              "  <thead>\n",
              "    <tr style=\"text-align: right;\">\n",
              "      <th></th>\n",
              "      <th>title</th>\n",
              "      <th>author</th>\n",
              "      <th>published_date</th>\n",
              "      <th>tags</th>\n",
              "    </tr>\n",
              "  </thead>\n",
              "  <tbody>\n",
              "    <tr>\n",
              "      <th>0</th>\n",
              "      <td>IPL 2025: Ruthless MI top table, knock Rajasth...</td>\n",
              "      <td>Jane Doe</td>\n",
              "      <td>2025-05-01 23:12:07+00:00</td>\n",
              "      <td>[['[\"#IPL2025\"', '\"#MumbaiIndians\"', '\"#Rajast...</td>\n",
              "    </tr>\n",
              "    <tr>\n",
              "      <th>1</th>\n",
              "      <td>Shubman Gill likely to play vs SRH despite bac...</td>\n",
              "      <td>Jane Doe</td>\n",
              "      <td>2025-05-01 22:30:24+00:00</td>\n",
              "      <td>[['[\"#ShubmanGill\"', '\"#GujaratTitans\"', '\"#IP...</td>\n",
              "    </tr>\n",
              "    <tr>\n",
              "      <th>2</th>\n",
              "      <td>IPL 2025: Vaibhav Suryavanshi out for 2-ball d...</td>\n",
              "      <td>Jane Doe</td>\n",
              "      <td>2025-05-01 21:53:11+00:00</td>\n",
              "      <td>[['[\"#VaibhavSuryavanshi\"', '\"#IPL2025\"', '\"#C...</td>\n",
              "    </tr>\n",
              "    <tr>\n",
              "      <th>3</th>\n",
              "      <td>IPL: Rohit Sharma completes 6,000 runs for MI,...</td>\n",
              "      <td>Jane Doe</td>\n",
              "      <td>2025-05-01 21:13:15+00:00</td>\n",
              "      <td>[['[\"#RohitSharma\"', '\"#MumbaiIndians\"', '\"#IP...</td>\n",
              "    </tr>\n",
              "    <tr>\n",
              "      <th>4</th>\n",
              "      <td>IPL 2025: Don't praise Vaibhav Suryavanshi to ...</td>\n",
              "      <td>Jane Doe</td>\n",
              "      <td>2025-05-01 20:36:03+00:00</td>\n",
              "      <td>[['[\"#VaibhavSuryavanshi\"', '\"#SunilGavaskar\"'...</td>\n",
              "    </tr>\n",
              "  </tbody>\n",
              "</table>\n",
              "</div>\n",
              "    <div class=\"colab-df-buttons\">\n",
              "\n",
              "  <div class=\"colab-df-container\">\n",
              "    <button class=\"colab-df-convert\" onclick=\"convertToInteractive('df-344feb7b-dc7b-417d-b4c5-d762ffad3bfb')\"\n",
              "            title=\"Convert this dataframe to an interactive table.\"\n",
              "            style=\"display:none;\">\n",
              "\n",
              "  <svg xmlns=\"http://www.w3.org/2000/svg\" height=\"24px\" viewBox=\"0 -960 960 960\">\n",
              "    <path d=\"M120-120v-720h720v720H120Zm60-500h600v-160H180v160Zm220 220h160v-160H400v160Zm0 220h160v-160H400v160ZM180-400h160v-160H180v160Zm440 0h160v-160H620v160ZM180-180h160v-160H180v160Zm440 0h160v-160H620v160Z\"/>\n",
              "  </svg>\n",
              "    </button>\n",
              "\n",
              "  <style>\n",
              "    .colab-df-container {\n",
              "      display:flex;\n",
              "      gap: 12px;\n",
              "    }\n",
              "\n",
              "    .colab-df-convert {\n",
              "      background-color: #E8F0FE;\n",
              "      border: none;\n",
              "      border-radius: 50%;\n",
              "      cursor: pointer;\n",
              "      display: none;\n",
              "      fill: #1967D2;\n",
              "      height: 32px;\n",
              "      padding: 0 0 0 0;\n",
              "      width: 32px;\n",
              "    }\n",
              "\n",
              "    .colab-df-convert:hover {\n",
              "      background-color: #E2EBFA;\n",
              "      box-shadow: 0px 1px 2px rgba(60, 64, 67, 0.3), 0px 1px 3px 1px rgba(60, 64, 67, 0.15);\n",
              "      fill: #174EA6;\n",
              "    }\n",
              "\n",
              "    .colab-df-buttons div {\n",
              "      margin-bottom: 4px;\n",
              "    }\n",
              "\n",
              "    [theme=dark] .colab-df-convert {\n",
              "      background-color: #3B4455;\n",
              "      fill: #D2E3FC;\n",
              "    }\n",
              "\n",
              "    [theme=dark] .colab-df-convert:hover {\n",
              "      background-color: #434B5C;\n",
              "      box-shadow: 0px 1px 3px 1px rgba(0, 0, 0, 0.15);\n",
              "      filter: drop-shadow(0px 1px 2px rgba(0, 0, 0, 0.3));\n",
              "      fill: #FFFFFF;\n",
              "    }\n",
              "  </style>\n",
              "\n",
              "    <script>\n",
              "      const buttonEl =\n",
              "        document.querySelector('#df-344feb7b-dc7b-417d-b4c5-d762ffad3bfb button.colab-df-convert');\n",
              "      buttonEl.style.display =\n",
              "        google.colab.kernel.accessAllowed ? 'block' : 'none';\n",
              "\n",
              "      async function convertToInteractive(key) {\n",
              "        const element = document.querySelector('#df-344feb7b-dc7b-417d-b4c5-d762ffad3bfb');\n",
              "        const dataTable =\n",
              "          await google.colab.kernel.invokeFunction('convertToInteractive',\n",
              "                                                    [key], {});\n",
              "        if (!dataTable) return;\n",
              "\n",
              "        const docLinkHtml = 'Like what you see? Visit the ' +\n",
              "          '<a target=\"_blank\" href=https://colab.research.google.com/notebooks/data_table.ipynb>data table notebook</a>'\n",
              "          + ' to learn more about interactive tables.';\n",
              "        element.innerHTML = '';\n",
              "        dataTable['output_type'] = 'display_data';\n",
              "        await google.colab.output.renderOutput(dataTable, element);\n",
              "        const docLink = document.createElement('div');\n",
              "        docLink.innerHTML = docLinkHtml;\n",
              "        element.appendChild(docLink);\n",
              "      }\n",
              "    </script>\n",
              "  </div>\n",
              "\n",
              "\n",
              "    <div id=\"df-d53f020e-e8c9-475a-81ba-97c0cd19eb75\">\n",
              "      <button class=\"colab-df-quickchart\" onclick=\"quickchart('df-d53f020e-e8c9-475a-81ba-97c0cd19eb75')\"\n",
              "                title=\"Suggest charts\"\n",
              "                style=\"display:none;\">\n",
              "\n",
              "<svg xmlns=\"http://www.w3.org/2000/svg\" height=\"24px\"viewBox=\"0 0 24 24\"\n",
              "     width=\"24px\">\n",
              "    <g>\n",
              "        <path d=\"M19 3H5c-1.1 0-2 .9-2 2v14c0 1.1.9 2 2 2h14c1.1 0 2-.9 2-2V5c0-1.1-.9-2-2-2zM9 17H7v-7h2v7zm4 0h-2V7h2v10zm4 0h-2v-4h2v4z\"/>\n",
              "    </g>\n",
              "</svg>\n",
              "      </button>\n",
              "\n",
              "<style>\n",
              "  .colab-df-quickchart {\n",
              "      --bg-color: #E8F0FE;\n",
              "      --fill-color: #1967D2;\n",
              "      --hover-bg-color: #E2EBFA;\n",
              "      --hover-fill-color: #174EA6;\n",
              "      --disabled-fill-color: #AAA;\n",
              "      --disabled-bg-color: #DDD;\n",
              "  }\n",
              "\n",
              "  [theme=dark] .colab-df-quickchart {\n",
              "      --bg-color: #3B4455;\n",
              "      --fill-color: #D2E3FC;\n",
              "      --hover-bg-color: #434B5C;\n",
              "      --hover-fill-color: #FFFFFF;\n",
              "      --disabled-bg-color: #3B4455;\n",
              "      --disabled-fill-color: #666;\n",
              "  }\n",
              "\n",
              "  .colab-df-quickchart {\n",
              "    background-color: var(--bg-color);\n",
              "    border: none;\n",
              "    border-radius: 50%;\n",
              "    cursor: pointer;\n",
              "    display: none;\n",
              "    fill: var(--fill-color);\n",
              "    height: 32px;\n",
              "    padding: 0;\n",
              "    width: 32px;\n",
              "  }\n",
              "\n",
              "  .colab-df-quickchart:hover {\n",
              "    background-color: var(--hover-bg-color);\n",
              "    box-shadow: 0 1px 2px rgba(60, 64, 67, 0.3), 0 1px 3px 1px rgba(60, 64, 67, 0.15);\n",
              "    fill: var(--button-hover-fill-color);\n",
              "  }\n",
              "\n",
              "  .colab-df-quickchart-complete:disabled,\n",
              "  .colab-df-quickchart-complete:disabled:hover {\n",
              "    background-color: var(--disabled-bg-color);\n",
              "    fill: var(--disabled-fill-color);\n",
              "    box-shadow: none;\n",
              "  }\n",
              "\n",
              "  .colab-df-spinner {\n",
              "    border: 2px solid var(--fill-color);\n",
              "    border-color: transparent;\n",
              "    border-bottom-color: var(--fill-color);\n",
              "    animation:\n",
              "      spin 1s steps(1) infinite;\n",
              "  }\n",
              "\n",
              "  @keyframes spin {\n",
              "    0% {\n",
              "      border-color: transparent;\n",
              "      border-bottom-color: var(--fill-color);\n",
              "      border-left-color: var(--fill-color);\n",
              "    }\n",
              "    20% {\n",
              "      border-color: transparent;\n",
              "      border-left-color: var(--fill-color);\n",
              "      border-top-color: var(--fill-color);\n",
              "    }\n",
              "    30% {\n",
              "      border-color: transparent;\n",
              "      border-left-color: var(--fill-color);\n",
              "      border-top-color: var(--fill-color);\n",
              "      border-right-color: var(--fill-color);\n",
              "    }\n",
              "    40% {\n",
              "      border-color: transparent;\n",
              "      border-right-color: var(--fill-color);\n",
              "      border-top-color: var(--fill-color);\n",
              "    }\n",
              "    60% {\n",
              "      border-color: transparent;\n",
              "      border-right-color: var(--fill-color);\n",
              "    }\n",
              "    80% {\n",
              "      border-color: transparent;\n",
              "      border-right-color: var(--fill-color);\n",
              "      border-bottom-color: var(--fill-color);\n",
              "    }\n",
              "    90% {\n",
              "      border-color: transparent;\n",
              "      border-bottom-color: var(--fill-color);\n",
              "    }\n",
              "  }\n",
              "</style>\n",
              "\n",
              "      <script>\n",
              "        async function quickchart(key) {\n",
              "          const quickchartButtonEl =\n",
              "            document.querySelector('#' + key + ' button');\n",
              "          quickchartButtonEl.disabled = true;  // To prevent multiple clicks.\n",
              "          quickchartButtonEl.classList.add('colab-df-spinner');\n",
              "          try {\n",
              "            const charts = await google.colab.kernel.invokeFunction(\n",
              "                'suggestCharts', [key], {});\n",
              "          } catch (error) {\n",
              "            console.error('Error during call to suggestCharts:', error);\n",
              "          }\n",
              "          quickchartButtonEl.classList.remove('colab-df-spinner');\n",
              "          quickchartButtonEl.classList.add('colab-df-quickchart-complete');\n",
              "        }\n",
              "        (() => {\n",
              "          let quickchartButtonEl =\n",
              "            document.querySelector('#df-d53f020e-e8c9-475a-81ba-97c0cd19eb75 button');\n",
              "          quickchartButtonEl.style.display =\n",
              "            google.colab.kernel.accessAllowed ? 'block' : 'none';\n",
              "        })();\n",
              "      </script>\n",
              "    </div>\n",
              "\n",
              "    </div>\n",
              "  </div>\n"
            ],
            "application/vnd.google.colaboratory.intrinsic+json": {
              "type": "dataframe",
              "summary": "{\n  \"name\": \"df[['title', 'author', 'published_date', 'tags']]\",\n  \"rows\": 5,\n  \"fields\": [\n    {\n      \"column\": \"title\",\n      \"properties\": {\n        \"dtype\": \"string\",\n        \"num_unique_values\": 5,\n        \"samples\": [\n          \"Shubman Gill likely to play vs SRH despite back spasm scare, confirms GT's Vikram Solanki\",\n          \"IPL 2025: Don't praise Vaibhav Suryavanshi to the skies, says Sunil Gavaskar\",\n          \"IPL 2025: Vaibhav Suryavanshi out for 2-ball duck days after 35-ball hundred\"\n        ],\n        \"semantic_type\": \"\",\n        \"description\": \"\"\n      }\n    },\n    {\n      \"column\": \"author\",\n      \"properties\": {\n        \"dtype\": \"category\",\n        \"num_unique_values\": 1,\n        \"samples\": [\n          \"Jane Doe\"\n        ],\n        \"semantic_type\": \"\",\n        \"description\": \"\"\n      }\n    },\n    {\n      \"column\": \"published_date\",\n      \"properties\": {\n        \"dtype\": \"date\",\n        \"min\": \"2025-05-01 20:36:03+00:00\",\n        \"max\": \"2025-05-01 23:12:07+00:00\",\n        \"num_unique_values\": 5,\n        \"samples\": [\n          \"2025-05-01 22:30:24+00:00\"\n        ],\n        \"semantic_type\": \"\",\n        \"description\": \"\"\n      }\n    },\n    {\n      \"column\": \"tags\",\n      \"properties\": {\n        \"dtype\": \"object\",\n        \"semantic_type\": \"\",\n        \"description\": \"\"\n      }\n    }\n  ]\n}"
            }
          },
          "metadata": {},
          "execution_count": 23
        }
      ]
    },
    {
      "cell_type": "code",
      "source": [
        "print(df['tags'].iloc[0])\n"
      ],
      "metadata": {
        "colab": {
          "base_uri": "https://localhost:8080/"
        },
        "id": "Y8FaDkub3s-p",
        "outputId": "642ff65c-f1a0-41ee-ade4-87b1efd74a1a"
      },
      "execution_count": 27,
      "outputs": [
        {
          "output_type": "stream",
          "name": "stdout",
          "text": [
            "[]\n"
          ]
        }
      ]
    },
    {
      "cell_type": "code",
      "source": [
        "import pandas as pd\n",
        "\n",
        "# Reload from Google Drive\n",
        "df = pd.read_csv('/content/drive/MyDrive/Bridged/sample_data.csv')\n",
        "\n",
        "# Peek at the raw 'tags' value\n",
        "print(df['tags'].iloc[0])\n"
      ],
      "metadata": {
        "colab": {
          "base_uri": "https://localhost:8080/"
        },
        "id": "c5Gksjed31bj",
        "outputId": "85d6b01e-13cc-4bed-c788-962db1b848b0"
      },
      "execution_count": 28,
      "outputs": [
        {
          "output_type": "stream",
          "name": "stdout",
          "text": [
            "[\"#IPL2025\", \"#MumbaiIndians\", \"#RajasthanRoyals\"]\n"
          ]
        }
      ]
    },
    {
      "cell_type": "code",
      "source": [
        "import ast\n",
        "\n",
        "# Safely convert stringified lists into actual Python lists\n",
        "df['tags'] = df['tags'].apply(lambda x: ast.literal_eval(x) if isinstance(x, str) else [])\n"
      ],
      "metadata": {
        "id": "cO87JPSu4lwb"
      },
      "execution_count": 29,
      "outputs": []
    },
    {
      "cell_type": "code",
      "source": [
        "df['tags'].head()\n"
      ],
      "metadata": {
        "colab": {
          "base_uri": "https://localhost:8080/",
          "height": 240
        },
        "id": "XrHLc0Gc4ypx",
        "outputId": "e7841cbb-5b5a-4204-ed36-a4132b583ae4"
      },
      "execution_count": 30,
      "outputs": [
        {
          "output_type": "execute_result",
          "data": {
            "text/plain": [
              "0       [#IPL2025, #MumbaiIndians, #RajasthanRoyals]\n",
              "1       [#ShubmanGill, #GujaratTitans, #IPLInjuries]\n",
              "2      [#VaibhavSuryavanshi, #IPL2025, #CricketForm]\n",
              "3        [#RohitSharma, #MumbaiIndians, #IPLRecords]\n",
              "4    [#VaibhavSuryavanshi, #SunilGavaskar, #IPL2025]\n",
              "Name: tags, dtype: object"
            ],
            "text/html": [
              "<div>\n",
              "<style scoped>\n",
              "    .dataframe tbody tr th:only-of-type {\n",
              "        vertical-align: middle;\n",
              "    }\n",
              "\n",
              "    .dataframe tbody tr th {\n",
              "        vertical-align: top;\n",
              "    }\n",
              "\n",
              "    .dataframe thead th {\n",
              "        text-align: right;\n",
              "    }\n",
              "</style>\n",
              "<table border=\"1\" class=\"dataframe\">\n",
              "  <thead>\n",
              "    <tr style=\"text-align: right;\">\n",
              "      <th></th>\n",
              "      <th>tags</th>\n",
              "    </tr>\n",
              "  </thead>\n",
              "  <tbody>\n",
              "    <tr>\n",
              "      <th>0</th>\n",
              "      <td>[#IPL2025, #MumbaiIndians, #RajasthanRoyals]</td>\n",
              "    </tr>\n",
              "    <tr>\n",
              "      <th>1</th>\n",
              "      <td>[#ShubmanGill, #GujaratTitans, #IPLInjuries]</td>\n",
              "    </tr>\n",
              "    <tr>\n",
              "      <th>2</th>\n",
              "      <td>[#VaibhavSuryavanshi, #IPL2025, #CricketForm]</td>\n",
              "    </tr>\n",
              "    <tr>\n",
              "      <th>3</th>\n",
              "      <td>[#RohitSharma, #MumbaiIndians, #IPLRecords]</td>\n",
              "    </tr>\n",
              "    <tr>\n",
              "      <th>4</th>\n",
              "      <td>[#VaibhavSuryavanshi, #SunilGavaskar, #IPL2025]</td>\n",
              "    </tr>\n",
              "  </tbody>\n",
              "</table>\n",
              "</div><br><label><b>dtype:</b> object</label>"
            ]
          },
          "metadata": {},
          "execution_count": 30
        }
      ]
    },
    {
      "cell_type": "code",
      "source": [
        "# Rename to match expected field\n",
        "df.rename(columns={'publishedDate': 'published_date'}, inplace=True)\n"
      ],
      "metadata": {
        "id": "BsERc8_Z55xG"
      },
      "execution_count": 35,
      "outputs": []
    },
    {
      "cell_type": "code",
      "source": [
        "print(df.columns)\n"
      ],
      "metadata": {
        "colab": {
          "base_uri": "https://localhost:8080/"
        },
        "id": "usKbNs2h59WG",
        "outputId": "bc7ab119-4d1b-4a86-91a2-942a3d558d87"
      },
      "execution_count": 36,
      "outputs": [
        {
          "output_type": "stream",
          "name": "stdout",
          "text": [
            "Index(['pageURL', 'title', 'published_date', 'author', 'tags'], dtype='object')\n"
          ]
        }
      ]
    },
    {
      "cell_type": "code",
      "source": [
        "## Embed & Upload to Pinecone"
      ],
      "metadata": {
        "id": "shspyPhW5Q8T"
      },
      "execution_count": 33,
      "outputs": []
    },
    {
      "cell_type": "code",
      "source": [
        "from tqdm import tqdm\n",
        "\n",
        "vectors = []\n",
        "\n",
        "for i, row in tqdm(df.iterrows(), total=len(df)):\n",
        "    content = str(row['title'])  # Using title as input for embeddings\n",
        "    try:\n",
        "        embedding = get_embedding(content)\n",
        "    except Exception as e:\n",
        "        print(f\"Embedding failed at row {i}: {e}\")\n",
        "        continue\n",
        "\n",
        "    # Extract date\n",
        "    date = pd.to_datetime(row['published_date'], errors='coerce')\n",
        "    metadata = {\n",
        "        \"title\": str(row['title']),\n",
        "        \"author\": str(row['author']),\n",
        "        \"published_year\": int(date.year) if pd.notnull(date) else None,\n",
        "        \"published_month\": int(date.month) if pd.notnull(date) else None,\n",
        "        \"tags\": row['tags']\n",
        "    }\n",
        "\n",
        "    vectors.append({\n",
        "        \"id\": f\"doc-{i}\",\n",
        "        \"values\": embedding,\n",
        "        \"metadata\": metadata\n",
        "    })\n",
        "\n",
        "    # Upload in batches of 100\n",
        "    if len(vectors) == 100 or i == len(df)-1:\n",
        "        index.upsert(vectors=vectors)\n",
        "        vectors = []\n"
      ],
      "metadata": {
        "colab": {
          "base_uri": "https://localhost:8080/"
        },
        "id": "o0GD1fUZ5Zn_",
        "outputId": "4f3adf38-f0ed-4cc1-a2b0-30090a348ef0"
      },
      "execution_count": 69,
      "outputs": [
        {
          "output_type": "stream",
          "name": "stderr",
          "text": [
            "100%|██████████| 15/15 [00:07<00:00,  2.06it/s]\n"
          ]
        }
      ]
    },
    {
      "cell_type": "code",
      "source": [
        "### PHASE 2: Build the Natural Language → Pinecone Filter Agent"
      ],
      "metadata": {
        "id": "fNwXgqhX5d_i"
      },
      "execution_count": 45,
      "outputs": []
    },
    {
      "cell_type": "code",
      "source": [
        "## Step 1: Define Few-Shot Prompt Template"
      ],
      "metadata": {
        "id": "-8LHJpmk6fGa"
      },
      "execution_count": 39,
      "outputs": []
    },
    {
      "cell_type": "code",
      "source": [
        "SYSTEM_PROMPT = \"\"\"\n",
        "You are a smart assistant that converts natural language search queries into Pinecone-compatible JSON filters.\n",
        "\n",
        "Your task is to extract structured metadata from the user's query and return ONLY a JSON object.\n",
        "\n",
        "Valid filter fields are:\n",
        "- author: string\n",
        "- published_year: integer\n",
        "- published_month: integer\n",
        "- tags: list of strings (exact match)\n",
        "\n",
        "Examples:\n",
        "\n",
        "User: Show me articles by Jane Doe from May 2025 about IPL\n",
        "Response:\n",
        "{\n",
        "  \"author\": \"Jane Doe\",\n",
        "  \"published_year\": { \"$eq\": 2025 },\n",
        "  \"published_month\": { \"$eq\": 5 },\n",
        "  \"tags\": { \"$in\": [\"IPL\"] }\n",
        "}\n",
        "\n",
        "User: Anything by John Smith on cricket injuries?\n",
        "Response:\n",
        "{\n",
        "  \"author\": \"John Smith\",\n",
        "  \"tags\": { \"$in\": [\"cricket injuries\"] }\n",
        "}\n",
        "\n",
        "Return ONLY the filter JSON, without any explanation.\n",
        "\"\"\"\n"
      ],
      "metadata": {
        "id": "M9rTfWgD-8nS"
      },
      "execution_count": 40,
      "outputs": []
    },
    {
      "cell_type": "code",
      "source": [
        "## Step 2: Create a Function to Generate Filters"
      ],
      "metadata": {
        "id": "OkfwhRNt_AI8"
      },
      "execution_count": 41,
      "outputs": []
    },
    {
      "cell_type": "code",
      "source": [
        "def generate_filter_from_query(user_query):\n",
        "    response = openai.chat.completions.create(\n",
        "        model=\"gpt-3.5-turbo\",\n",
        "        messages=[\n",
        "            {\"role\": \"system\", \"content\": SYSTEM_PROMPT},\n",
        "            {\"role\": \"user\", \"content\": user_query}\n",
        "        ],\n",
        "        temperature=0.0\n",
        "    )\n",
        "    json_str = response.choices[0].message.content.strip()\n",
        "\n",
        "    try:\n",
        "        return ast.literal_eval(json_str)\n",
        "    except Exception as e:\n",
        "        print(\"Error parsing JSON:\", e)\n",
        "        return {}\n"
      ],
      "metadata": {
        "id": "3FuwRKwS_DAu"
      },
      "execution_count": 42,
      "outputs": []
    },
    {
      "cell_type": "code",
      "source": [
        "## Step 3: Try Some Test Queries"
      ],
      "metadata": {
        "id": "p2nTPQ3A_F_j"
      },
      "execution_count": 43,
      "outputs": []
    },
    {
      "cell_type": "code",
      "source": [
        "query1 = \"Show me articles by Jane Doe from May 2025 about IPL\"\n",
        "query2 = \"Find posts tagged with #MumbaiIndians in 2025\"\n",
        "query3 = \"Anything by John Smith on cricket injuries?\"\n",
        "\n",
        "print(generate_filter_from_query(query1))\n",
        "print(generate_filter_from_query(query2))\n",
        "print(generate_filter_from_query(query3))\n"
      ],
      "metadata": {
        "colab": {
          "base_uri": "https://localhost:8080/"
        },
        "id": "BqvwJcmx_J1t",
        "outputId": "6c0e053d-58e8-4c60-ffb3-2a26b0c11333"
      },
      "execution_count": 44,
      "outputs": [
        {
          "output_type": "stream",
          "name": "stdout",
          "text": [
            "{'author': 'Jane Doe', 'published_year': {'$eq': 2025}, 'published_month': {'$eq': 5}, 'tags': {'$in': ['IPL']}}\n",
            "{'published_year': {'$eq': 2025}, 'tags': {'$in': ['MumbaiIndians']}}\n",
            "{'author': 'John Smith', 'tags': {'$in': ['cricket injuries']}}\n"
          ]
        }
      ]
    },
    {
      "cell_type": "code",
      "source": [
        "### PHASE 3: Run Filtered Vector Search in Pinecone"
      ],
      "metadata": {
        "id": "_n6qZKzH_MHt"
      },
      "execution_count": 47,
      "outputs": []
    },
    {
      "cell_type": "code",
      "source": [
        "## Step 1: Define Search Function"
      ],
      "metadata": {
        "id": "0w7dBXR-_nMP"
      },
      "execution_count": 48,
      "outputs": []
    },
    {
      "cell_type": "code",
      "source": [
        "def search_articles(query_text, top_k=5):\n",
        "    # 1. Get query embedding\n",
        "    query_embedding = get_embedding(query_text)\n",
        "\n",
        "    # 2. Generate metadata filter using GPT\n",
        "    filter_dict = generate_filter_from_query(query_text)\n",
        "\n",
        "    # 3. Query Pinecone with vector + metadata filter\n",
        "    results = index.query(\n",
        "        vector=query_embedding,\n",
        "        top_k=top_k,\n",
        "        filter=filter_dict,\n",
        "        include_metadata=True\n",
        "    )\n",
        "\n",
        "    return results\n"
      ],
      "metadata": {
        "id": "FrAUxHYJ_shr"
      },
      "execution_count": 49,
      "outputs": []
    },
    {
      "cell_type": "code",
      "source": [
        "## Step 2: Try a Query"
      ],
      "metadata": {
        "id": "r8tk1Eib_vJT"
      },
      "execution_count": 50,
      "outputs": []
    },
    {
      "cell_type": "code",
      "source": [
        "query = \"Show me articles by Jane Doe from May 2025 about IPL\"\n",
        "results = search_articles(query)\n",
        "\n",
        "for match in results.matches:\n",
        "    print(f\"\\nScore: {match.score}\")\n",
        "    print(\"Title:\", match.metadata.get(\"title\", \"N/A\"))\n",
        "    print(\"Author:\", match.metadata.get(\"author\", \"N/A\"))\n",
        "    print(\"Tags:\", match.metadata.get(\"tags\", []))\n"
      ],
      "metadata": {
        "id": "nrm_au8h_zgR"
      },
      "execution_count": 51,
      "outputs": []
    },
    {
      "cell_type": "code",
      "source": [
        "## Check top_k setting"
      ],
      "metadata": {
        "id": "cRP1SSU6Bzmd"
      },
      "execution_count": 64,
      "outputs": []
    },
    {
      "cell_type": "code",
      "source": [
        "results = search_articles(query, top_k=5)\n"
      ],
      "metadata": {
        "id": "r6VFINNA_3xt"
      },
      "execution_count": 52,
      "outputs": []
    },
    {
      "cell_type": "code",
      "source": [
        "## Print Filter and Confirm Matching"
      ],
      "metadata": {
        "id": "vXuvPriJB1rS"
      },
      "execution_count": 65,
      "outputs": []
    },
    {
      "cell_type": "code",
      "source": [
        "def search_articles(query_text, top_k=5):\n",
        "    query_embedding = get_embedding(query_text)\n",
        "    filter_dict = generate_filter_from_query(query_text)\n",
        "\n",
        "    print(\"Generated filter:\\n\", filter_dict)\n",
        "\n",
        "    results = index.query(\n",
        "        vector=query_embedding,\n",
        "        top_k=top_k,\n",
        "        filter=filter_dict,\n",
        "        include_metadata=True\n",
        "    )\n",
        "\n",
        "    return results\n"
      ],
      "metadata": {
        "id": "_30qrUeyAWFV"
      },
      "execution_count": 53,
      "outputs": []
    },
    {
      "cell_type": "code",
      "source": [
        "## Test Without Filter (Vector-Only Search)"
      ],
      "metadata": {
        "id": "5F-L_TbFB47v"
      },
      "execution_count": 66,
      "outputs": []
    },
    {
      "cell_type": "code",
      "source": [
        "def search_without_filter(query_text, top_k=5):\n",
        "    query_embedding = get_embedding(query_text)\n",
        "\n",
        "    results = index.query(\n",
        "        vector=query_embedding,\n",
        "        top_k=top_k,\n",
        "        include_metadata=True\n",
        "    )\n",
        "\n",
        "    return results\n"
      ],
      "metadata": {
        "id": "GnGsOS5HAY_3"
      },
      "execution_count": 54,
      "outputs": []
    },
    {
      "cell_type": "code",
      "source": [
        "query = \"Show me articles about IPL\"\n",
        "results = search_without_filter(query)\n",
        "\n",
        "for match in results.matches:\n",
        "    print(f\"\\nScore: {match.score}\")\n",
        "    print(\"Title:\", match.metadata.get(\"title\", \"N/A\"))\n",
        "    print(\"Author:\", match.metadata.get(\"author\", \"N/A\"))\n",
        "    print(\"Tags:\", match.metadata.get(\"tags\", []))\n"
      ],
      "metadata": {
        "colab": {
          "base_uri": "https://localhost:8080/"
        },
        "id": "YzeJ6VXoAcOL",
        "outputId": "99e674e5-a234-4c5f-9660-180a7d0aa0c0"
      },
      "execution_count": 70,
      "outputs": [
        {
          "output_type": "stream",
          "name": "stdout",
          "text": [
            "\n",
            "Score: 0.827514768\n",
            "Title: IPL 2025: Former England football manager Gareth Southgate watches RR vs MI\n",
            "Author: Mary Poppins\n",
            "Tags: ['#GarethSouthgate', '#RajasthanRoyals', '#IPL2025']\n",
            "\n",
            "Score: 0.817077696\n",
            "Title: IPL 2025: Ruthless MI top table, knock Rajasthan Royals out of playoffs race\n",
            "Author: Jane Doe\n",
            "Tags: ['#IPL2025', '#MumbaiIndians', '#RajasthanRoyals']\n",
            "\n",
            "Score: 0.812927246\n",
            "Title: IPL 2025: Vaibhav Suryavanshi out for 2-ball duck days after 35-ball hundred\n",
            "Author: Jane Doe\n",
            "Tags: ['#VaibhavSuryavanshi', '#IPL2025', '#CricketForm']\n",
            "\n",
            "Score: 0.807495177\n",
            "Title: Virender Sehwag reveals why Delhi didn't pick Virat Kohli in IPL 2008\n",
            "Author: Harry Potter\n",
            "Tags: ['#VirenderSehwag', '#ViratKohli', '#IPLHistory']\n",
            "\n",
            "Score: 0.796264768\n",
            "Title: IPL 2025: Don't praise Vaibhav Suryavanshi to the skies, says Sunil Gavaskar\n",
            "Author: Jane Doe\n",
            "Tags: ['#VaibhavSuryavanshi', '#SunilGavaskar', '#IPL2025']\n"
          ]
        }
      ]
    },
    {
      "cell_type": "code",
      "source": [
        "## Test with Only Partial Filters"
      ],
      "metadata": {
        "id": "muq_c0r8CCa9"
      },
      "execution_count": 67,
      "outputs": []
    },
    {
      "cell_type": "code",
      "source": [
        "{\n",
        "  \"tags\": { \"$in\": [\"IPL\"] }\n",
        "}\n"
      ],
      "metadata": {
        "colab": {
          "base_uri": "https://localhost:8080/"
        },
        "id": "UDHUih9_Aoh5",
        "outputId": "5dec7ab2-cf43-4ee5-8200-4436207cf566"
      },
      "execution_count": 57,
      "outputs": [
        {
          "output_type": "execute_result",
          "data": {
            "text/plain": [
              "{'tags': {'$in': ['IPL']}}"
            ]
          },
          "metadata": {},
          "execution_count": 57
        }
      ]
    },
    {
      "cell_type": "code",
      "source": [
        "{\n",
        "  \"author\": \"Jane Doe\"\n",
        "}\n"
      ],
      "metadata": {
        "colab": {
          "base_uri": "https://localhost:8080/"
        },
        "id": "-Dcj3oUTBA61",
        "outputId": "29962b3e-e6b4-4f21-b2c2-1d9482bb955a"
      },
      "execution_count": 58,
      "outputs": [
        {
          "output_type": "execute_result",
          "data": {
            "text/plain": [
              "{'author': 'Jane Doe'}"
            ]
          },
          "metadata": {},
          "execution_count": 58
        }
      ]
    }
  ]
}